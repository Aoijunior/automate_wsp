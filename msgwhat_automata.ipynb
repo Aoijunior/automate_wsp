{
 "cells": [
  {
   "cell_type": "markdown",
   "metadata": {},
   "source": [
    "# Automatización de mensajes con pywhatkit"
   ]
  },
  {
   "cell_type": "markdown",
   "metadata": {},
   "source": [
    "## Importanción de librerias"
   ]
  },
  {
   "cell_type": "code",
   "execution_count": 11,
   "metadata": {},
   "outputs": [],
   "source": [
    "import pywhatkit "
   ]
  },
  {
   "cell_type": "markdown",
   "metadata": {},
   "source": [
    "## Envio de mensaje para contactos"
   ]
  },
  {
   "cell_type": "code",
   "execution_count": 12,
   "metadata": {},
   "outputs": [
    {
     "ename": "CountryCodeException",
     "evalue": "Country Code Missing in Phone Number!",
     "output_type": "error",
     "traceback": [
      "\u001b[1;31m---------------------------------------------------------------------------\u001b[0m",
      "\u001b[1;31mCountryCodeException\u001b[0m                      Traceback (most recent call last)",
      "Cell \u001b[1;32mIn [12], line 1\u001b[0m\n\u001b[1;32m----> 1\u001b[0m \u001b[43mpywhatkit\u001b[49m\u001b[38;5;241;43m.\u001b[39;49m\u001b[43msendwhatmsg_instantly\u001b[49m\u001b[43m(\u001b[49m\u001b[38;5;124;43m\"\u001b[39;49m\u001b[38;5;124;43mAqui va el numero de celular\u001b[39;49m\u001b[38;5;124;43m\"\u001b[39;49m\u001b[43m,\u001b[49m\u001b[43m \u001b[49m\u001b[38;5;124;43m\"\u001b[39;49m\u001b[38;5;124;43mUn mensaje automatizado\u001b[39;49m\u001b[38;5;124;43m\"\u001b[39;49m\u001b[43m \u001b[49m\u001b[43m,\u001b[49m\u001b[43m \u001b[49m\u001b[38;5;241;43m8\u001b[39;49m\u001b[43m,\u001b[49m\u001b[43m \u001b[49m\u001b[38;5;28;43;01mTrue\u001b[39;49;00m\u001b[43m,\u001b[49m\u001b[43m \u001b[49m\u001b[38;5;241;43m3\u001b[39;49m\u001b[43m)\u001b[49m\n",
      "File \u001b[1;32mc:\\Users\\Junior\\Desktop\\Automatizaciones\\Messange_wsp\\venv\\lib\\site-packages\\pywhatkit\\whats.py:26\u001b[0m, in \u001b[0;36msendwhatmsg_instantly\u001b[1;34m(phone_no, message, wait_time, tab_close, close_time)\u001b[0m\n\u001b[0;32m     23\u001b[0m \u001b[39m\"\"\"Send WhatsApp Message Instantly\"\"\"\u001b[39;00m\n\u001b[0;32m     25\u001b[0m \u001b[39mif\u001b[39;00m \u001b[39mnot\u001b[39;00m core\u001b[39m.\u001b[39mcheck_number(number\u001b[39m=\u001b[39mphone_no):\n\u001b[1;32m---> 26\u001b[0m     \u001b[39mraise\u001b[39;00m exceptions\u001b[39m.\u001b[39mCountryCodeException(\u001b[39m\"\u001b[39m\u001b[39mCountry Code Missing in Phone Number!\u001b[39m\u001b[39m\"\u001b[39m)\n\u001b[0;32m     28\u001b[0m web\u001b[39m.\u001b[39mopen(\u001b[39mf\u001b[39m\u001b[39m\"\u001b[39m\u001b[39mhttps://web.whatsapp.com/send?phone=\u001b[39m\u001b[39m{\u001b[39;00mphone_no\u001b[39m}\u001b[39;00m\u001b[39m&text=\u001b[39m\u001b[39m{\u001b[39;00mquote(message)\u001b[39m}\u001b[39;00m\u001b[39m\"\u001b[39m)\n\u001b[0;32m     29\u001b[0m time\u001b[39m.\u001b[39msleep(\u001b[39m4\u001b[39m)\n",
      "\u001b[1;31mCountryCodeException\u001b[0m: Country Code Missing in Phone Number!"
     ]
    }
   ],
   "source": [
    "pywhatkit.sendwhatmsg_instantly(\"Aqui va el numero de celular\", \"Un mensaje automatizado\" , 8, True, 3)"
   ]
  },
  {
   "cell_type": "markdown",
   "metadata": {},
   "source": [
    "## Envio de mensaje para grupos de wsp"
   ]
  },
  {
   "cell_type": "code",
   "execution_count": null,
   "metadata": {},
   "outputs": [
    {
     "ename": "TypeError",
     "evalue": "'NoneType' object is not iterable",
     "output_type": "error",
     "traceback": [
      "\u001b[1;31m---------------------------------------------------------------------------\u001b[0m",
      "\u001b[1;31mTypeError\u001b[0m                                 Traceback (most recent call last)",
      "Cell \u001b[1;32mIn [5], line 1\u001b[0m\n\u001b[1;32m----> 1\u001b[0m \u001b[43mpywhatkit\u001b[49m\u001b[38;5;241;43m.\u001b[39;49m\u001b[43msendwhatmsg_to_group_instantly\u001b[49m\u001b[43m(\u001b[49m\u001b[38;5;124;43m\"\u001b[39;49m\u001b[38;5;124;43mEZjPQdpsHK5GeXxpmp376p\u001b[39;49m\u001b[38;5;124;43m\"\u001b[39;49m\u001b[43m,\u001b[49m\u001b[43m \u001b[49m\u001b[43mspam\u001b[49m\u001b[43m(\u001b[49m\u001b[43m)\u001b[49m\u001b[43m,\u001b[49m\u001b[38;5;241;43m10\u001b[39;49m\u001b[43m)\u001b[49m\n",
      "File \u001b[1;32mc:\\Users\\Junior\\Desktop\\Automatizaciones\\Messange_wsp\\venv\\lib\\site-packages\\pywhatkit\\whats.py:129\u001b[0m, in \u001b[0;36msendwhatmsg_to_group_instantly\u001b[1;34m(group_id, message, wait_time, tab_close, close_time)\u001b[0m\n\u001b[0;32m    126\u001b[0m current_time \u001b[39m=\u001b[39m time\u001b[39m.\u001b[39mlocaltime()\n\u001b[0;32m    128\u001b[0m time\u001b[39m.\u001b[39msleep(wait_time)\n\u001b[1;32m--> 129\u001b[0m core\u001b[39m.\u001b[39;49msend_message(message\u001b[39m=\u001b[39;49mmessage, receiver\u001b[39m=\u001b[39;49mgroup_id, wait_time\u001b[39m=\u001b[39;49mwait_time)\n\u001b[0;32m    130\u001b[0m log\u001b[39m.\u001b[39mlog_message(_time\u001b[39m=\u001b[39mcurrent_time, receiver\u001b[39m=\u001b[39mgroup_id, message\u001b[39m=\u001b[39mmessage)\n\u001b[0;32m    131\u001b[0m \u001b[39mif\u001b[39;00m tab_close:\n",
      "File \u001b[1;32mc:\\Users\\Junior\\Desktop\\Automatizaciones\\Messange_wsp\\venv\\lib\\site-packages\\pywhatkit\\core\\core.py:67\u001b[0m, in \u001b[0;36msend_message\u001b[1;34m(message, receiver, wait_time)\u001b[0m\n\u001b[0;32m     65\u001b[0m time\u001b[39m.\u001b[39msleep(wait_time \u001b[39m-\u001b[39m \u001b[39m7\u001b[39m)\n\u001b[0;32m     66\u001b[0m \u001b[39mif\u001b[39;00m \u001b[39mnot\u001b[39;00m check_number(number\u001b[39m=\u001b[39mreceiver):\n\u001b[1;32m---> 67\u001b[0m     \u001b[39mfor\u001b[39;00m char \u001b[39min\u001b[39;00m message:\n\u001b[0;32m     68\u001b[0m         \u001b[39mif\u001b[39;00m char \u001b[39m==\u001b[39m \u001b[39m\"\u001b[39m\u001b[39m\\n\u001b[39;00m\u001b[39m\"\u001b[39m:\n\u001b[0;32m     69\u001b[0m             hotkey(\u001b[39m\"\u001b[39m\u001b[39mshift\u001b[39m\u001b[39m\"\u001b[39m, \u001b[39m\"\u001b[39m\u001b[39menter\u001b[39m\u001b[39m\"\u001b[39m)\n",
      "\u001b[1;31mTypeError\u001b[0m: 'NoneType' object is not iterable"
     ]
    }
   ],
   "source": [
    "pywhatkit.sendwhatmsg_to_group_instantly(\"Aqui agregar el codigo del grupo\", \"Mensaje automatizado\",10)"
   ]
  }
 ],
 "metadata": {
  "kernelspec": {
   "display_name": "Python 3.10.5 ('venv': venv)",
   "language": "python",
   "name": "python3"
  },
  "language_info": {
   "codemirror_mode": {
    "name": "ipython",
    "version": 3
   },
   "file_extension": ".py",
   "mimetype": "text/x-python",
   "name": "python",
   "nbconvert_exporter": "python",
   "pygments_lexer": "ipython3",
   "version": "3.10.5"
  },
  "orig_nbformat": 4,
  "vscode": {
   "interpreter": {
    "hash": "0b9a2566b0750344bc53235fb3b18ab75c82166050b551acbf54eeaecf723574"
   }
  }
 },
 "nbformat": 4,
 "nbformat_minor": 2
}
