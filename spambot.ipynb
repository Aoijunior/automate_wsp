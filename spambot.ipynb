{
 "cells": [
  {
   "cell_type": "markdown",
   "metadata": {},
   "source": [
    "# Spam bot para WhatsApp"
   ]
  },
  {
   "cell_type": "markdown",
   "metadata": {},
   "source": [
    "### Importando librerias y dependencias"
   ]
  },
  {
   "cell_type": "code",
   "execution_count": 3,
   "metadata": {},
   "outputs": [],
   "source": [
    "import pyautogui\n",
    "import webbrowser as web\n",
    "from time import sleep"
   ]
  },
  {
   "cell_type": "markdown",
   "metadata": {},
   "source": [
    "### Script"
   ]
  },
  {
   "cell_type": "code",
   "execution_count": 4,
   "metadata": {},
   "outputs": [],
   "source": [
    "#Script para enviar un mensaje a un contacto\n",
    "web.open(\"https://web.whatsapp.com/send?phone=+51960650700\")\n",
    "#Se debe agregar una url 'https://web.whatsapp.com/send?phone=\"+codigo del pais\"\"Numero de celular\"'\n",
    "sleep(10)\n",
    "    \n",
    "for i in range(100):\n",
    "        pyautogui.typewrite(\"Quiero enchiladas\")\n",
    "        pyautogui.press(\"enter\")"
   ]
  }
 ],
 "metadata": {
  "kernelspec": {
   "display_name": "Python 3.10.5 ('venv': venv)",
   "language": "python",
   "name": "python3"
  },
  "language_info": {
   "codemirror_mode": {
    "name": "ipython",
    "version": 3
   },
   "file_extension": ".py",
   "mimetype": "text/x-python",
   "name": "python",
   "nbconvert_exporter": "python",
   "pygments_lexer": "ipython3",
   "version": "3.10.5"
  },
  "orig_nbformat": 4,
  "vscode": {
   "interpreter": {
    "hash": "0b9a2566b0750344bc53235fb3b18ab75c82166050b551acbf54eeaecf723574"
   }
  }
 },
 "nbformat": 4,
 "nbformat_minor": 2
}
